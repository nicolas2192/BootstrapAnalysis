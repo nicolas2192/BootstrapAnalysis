{
 "cells": [
  {
   "cell_type": "markdown",
   "id": "dc6e5de4",
   "metadata": {},
   "source": [
    "# Two Samples Behaviour Analysis\n",
    "---\n",
    "Determine whether two samples belong to the same population. Bootstrap, Analysis and Visualization."
   ]
  },
  {
   "cell_type": "markdown",
   "id": "752459c1",
   "metadata": {},
   "source": [
    "### Imports"
   ]
  },
  {
   "cell_type": "code",
   "execution_count": 37,
   "id": "3ad6d345",
   "metadata": {},
   "outputs": [],
   "source": [
    "import numpy as np\n",
    "import pandas as pd\n",
    "import matplotlib.pyplot as plt\n",
    "import seaborn as sns"
   ]
  },
  {
   "cell_type": "markdown",
   "id": "f55cc156",
   "metadata": {},
   "source": [
    "### EDA\n",
    "\n",
    "**count:** number of orders made by a specific customer in a given timeframe (t0 - t2].<br>\n",
    "**result:** Delivery performance, either 1 or 0.<br>\n",
    "**ltv:** Life Time Value prediction.<br>\n",
    "**real:** Real Number of orders ordered by a customer in a given timeframe (t2 - t5].<br>\n",
    "\n",
    "We want to determine whether a bad perfomance (0) has an effect imparing further orders bringing the life time value and real orders value closer to zero. \n",
    "\n",
    "To carry out this analysis, users will be grouped by the number of orders they made during the experiment period, 'count' column."
   ]
  },
  {
   "cell_type": "code",
   "execution_count": 38,
   "id": "62d05026",
   "metadata": {},
   "outputs": [
    {
     "data": {
      "text/html": [
       "<div>\n",
       "<style scoped>\n",
       "    .dataframe tbody tr th:only-of-type {\n",
       "        vertical-align: middle;\n",
       "    }\n",
       "\n",
       "    .dataframe tbody tr th {\n",
       "        vertical-align: top;\n",
       "    }\n",
       "\n",
       "    .dataframe thead th {\n",
       "        text-align: right;\n",
       "    }\n",
       "</style>\n",
       "<table border=\"1\" class=\"dataframe\">\n",
       "  <thead>\n",
       "    <tr style=\"text-align: right;\">\n",
       "      <th></th>\n",
       "      <th>count</th>\n",
       "      <th>result</th>\n",
       "      <th>ltv</th>\n",
       "      <th>real</th>\n",
       "    </tr>\n",
       "  </thead>\n",
       "  <tbody>\n",
       "    <tr>\n",
       "      <th>0</th>\n",
       "      <td>1</td>\n",
       "      <td>0</td>\n",
       "      <td>14.0</td>\n",
       "      <td>6.0</td>\n",
       "    </tr>\n",
       "    <tr>\n",
       "      <th>1</th>\n",
       "      <td>2</td>\n",
       "      <td>0</td>\n",
       "      <td>12.0</td>\n",
       "      <td>33.0</td>\n",
       "    </tr>\n",
       "    <tr>\n",
       "      <th>2</th>\n",
       "      <td>1</td>\n",
       "      <td>0</td>\n",
       "      <td>14.0</td>\n",
       "      <td>22.0</td>\n",
       "    </tr>\n",
       "    <tr>\n",
       "      <th>3</th>\n",
       "      <td>1</td>\n",
       "      <td>0</td>\n",
       "      <td>3.0</td>\n",
       "      <td>0.0</td>\n",
       "    </tr>\n",
       "    <tr>\n",
       "      <th>4</th>\n",
       "      <td>1</td>\n",
       "      <td>0</td>\n",
       "      <td>2.0</td>\n",
       "      <td>1.0</td>\n",
       "    </tr>\n",
       "  </tbody>\n",
       "</table>\n",
       "</div>"
      ],
      "text/plain": [
       "   count  result   ltv  real\n",
       "0      1       0  14.0   6.0\n",
       "1      2       0  12.0  33.0\n",
       "2      1       0  14.0  22.0\n",
       "3      1       0   3.0   0.0\n",
       "4      1       0   2.0   1.0"
      ]
     },
     "execution_count": 38,
     "metadata": {},
     "output_type": "execute_result"
    }
   ],
   "source": [
    "df = pd.read_csv(\"MyData/data.csv\")\n",
    "df.head(5)"
   ]
  },
  {
   "cell_type": "code",
   "execution_count": 39,
   "id": "90ad3c42",
   "metadata": {},
   "outputs": [
    {
     "name": "stdout",
     "output_type": "stream",
     "text": [
      "<class 'pandas.core.frame.DataFrame'>\n",
      "RangeIndex: 15691 entries, 0 to 15690\n",
      "Data columns (total 4 columns):\n",
      " #   Column  Non-Null Count  Dtype  \n",
      "---  ------  --------------  -----  \n",
      " 0   count   15691 non-null  int64  \n",
      " 1   result  15691 non-null  int64  \n",
      " 2   ltv     15691 non-null  float64\n",
      " 3   real    15691 non-null  float64\n",
      "dtypes: float64(2), int64(2)\n",
      "memory usage: 490.5 KB\n"
     ]
    }
   ],
   "source": [
    "df.info()"
   ]
  },
  {
   "cell_type": "code",
   "execution_count": 40,
   "id": "c684f409",
   "metadata": {},
   "outputs": [
    {
     "data": {
      "text/html": [
       "<div>\n",
       "<style scoped>\n",
       "    .dataframe tbody tr th:only-of-type {\n",
       "        vertical-align: middle;\n",
       "    }\n",
       "\n",
       "    .dataframe tbody tr th {\n",
       "        vertical-align: top;\n",
       "    }\n",
       "\n",
       "    .dataframe thead th {\n",
       "        text-align: right;\n",
       "    }\n",
       "</style>\n",
       "<table border=\"1\" class=\"dataframe\">\n",
       "  <thead>\n",
       "    <tr style=\"text-align: right;\">\n",
       "      <th></th>\n",
       "      <th>count</th>\n",
       "      <th>result</th>\n",
       "      <th>ltv</th>\n",
       "      <th>real</th>\n",
       "    </tr>\n",
       "  </thead>\n",
       "  <tbody>\n",
       "    <tr>\n",
       "      <th>count</th>\n",
       "      <td>15691.000000</td>\n",
       "      <td>15691.000000</td>\n",
       "      <td>15691.000000</td>\n",
       "      <td>15691.000000</td>\n",
       "    </tr>\n",
       "    <tr>\n",
       "      <th>mean</th>\n",
       "      <td>1.579377</td>\n",
       "      <td>0.311198</td>\n",
       "      <td>13.934039</td>\n",
       "      <td>13.782933</td>\n",
       "    </tr>\n",
       "    <tr>\n",
       "      <th>std</th>\n",
       "      <td>1.040845</td>\n",
       "      <td>0.462998</td>\n",
       "      <td>13.841580</td>\n",
       "      <td>15.791432</td>\n",
       "    </tr>\n",
       "    <tr>\n",
       "      <th>min</th>\n",
       "      <td>1.000000</td>\n",
       "      <td>0.000000</td>\n",
       "      <td>0.000000</td>\n",
       "      <td>0.000000</td>\n",
       "    </tr>\n",
       "    <tr>\n",
       "      <th>25%</th>\n",
       "      <td>1.000000</td>\n",
       "      <td>0.000000</td>\n",
       "      <td>5.000000</td>\n",
       "      <td>3.000000</td>\n",
       "    </tr>\n",
       "    <tr>\n",
       "      <th>50%</th>\n",
       "      <td>1.000000</td>\n",
       "      <td>0.000000</td>\n",
       "      <td>10.000000</td>\n",
       "      <td>9.000000</td>\n",
       "    </tr>\n",
       "    <tr>\n",
       "      <th>75%</th>\n",
       "      <td>2.000000</td>\n",
       "      <td>1.000000</td>\n",
       "      <td>19.000000</td>\n",
       "      <td>18.000000</td>\n",
       "    </tr>\n",
       "    <tr>\n",
       "      <th>max</th>\n",
       "      <td>5.000000</td>\n",
       "      <td>1.000000</td>\n",
       "      <td>269.000000</td>\n",
       "      <td>232.000000</td>\n",
       "    </tr>\n",
       "  </tbody>\n",
       "</table>\n",
       "</div>"
      ],
      "text/plain": [
       "              count        result           ltv          real\n",
       "count  15691.000000  15691.000000  15691.000000  15691.000000\n",
       "mean       1.579377      0.311198     13.934039     13.782933\n",
       "std        1.040845      0.462998     13.841580     15.791432\n",
       "min        1.000000      0.000000      0.000000      0.000000\n",
       "25%        1.000000      0.000000      5.000000      3.000000\n",
       "50%        1.000000      0.000000     10.000000      9.000000\n",
       "75%        2.000000      1.000000     19.000000     18.000000\n",
       "max        5.000000      1.000000    269.000000    232.000000"
      ]
     },
     "execution_count": 40,
     "metadata": {},
     "output_type": "execute_result"
    }
   ],
   "source": [
    "df.describe()"
   ]
  },
  {
   "cell_type": "code",
   "execution_count": 41,
   "id": "4320b97e",
   "metadata": {},
   "outputs": [
    {
     "data": {
      "text/html": [
       "<div>\n",
       "<style scoped>\n",
       "    .dataframe tbody tr th:only-of-type {\n",
       "        vertical-align: middle;\n",
       "    }\n",
       "\n",
       "    .dataframe tbody tr th {\n",
       "        vertical-align: top;\n",
       "    }\n",
       "\n",
       "    .dataframe thead th {\n",
       "        text-align: right;\n",
       "    }\n",
       "</style>\n",
       "<table border=\"1\" class=\"dataframe\">\n",
       "  <thead>\n",
       "    <tr style=\"text-align: right;\">\n",
       "      <th></th>\n",
       "      <th></th>\n",
       "      <th>ltv</th>\n",
       "      <th>real</th>\n",
       "    </tr>\n",
       "    <tr>\n",
       "      <th>count</th>\n",
       "      <th>result</th>\n",
       "      <th></th>\n",
       "      <th></th>\n",
       "    </tr>\n",
       "  </thead>\n",
       "  <tbody>\n",
       "    <tr>\n",
       "      <th rowspan=\"2\" valign=\"top\">1</th>\n",
       "      <th>0</th>\n",
       "      <td>7025</td>\n",
       "      <td>7025</td>\n",
       "    </tr>\n",
       "    <tr>\n",
       "      <th>1</th>\n",
       "      <td>3668</td>\n",
       "      <td>3668</td>\n",
       "    </tr>\n",
       "    <tr>\n",
       "      <th rowspan=\"2\" valign=\"top\">2</th>\n",
       "      <th>0</th>\n",
       "      <td>2039</td>\n",
       "      <td>2039</td>\n",
       "    </tr>\n",
       "    <tr>\n",
       "      <th>1</th>\n",
       "      <td>704</td>\n",
       "      <td>704</td>\n",
       "    </tr>\n",
       "    <tr>\n",
       "      <th rowspan=\"2\" valign=\"top\">3</th>\n",
       "      <th>0</th>\n",
       "      <td>847</td>\n",
       "      <td>847</td>\n",
       "    </tr>\n",
       "    <tr>\n",
       "      <th>1</th>\n",
       "      <td>226</td>\n",
       "      <td>226</td>\n",
       "    </tr>\n",
       "    <tr>\n",
       "      <th rowspan=\"2\" valign=\"top\">4</th>\n",
       "      <th>0</th>\n",
       "      <td>426</td>\n",
       "      <td>426</td>\n",
       "    </tr>\n",
       "    <tr>\n",
       "      <th>1</th>\n",
       "      <td>100</td>\n",
       "      <td>100</td>\n",
       "    </tr>\n",
       "    <tr>\n",
       "      <th rowspan=\"2\" valign=\"top\">5</th>\n",
       "      <th>0</th>\n",
       "      <td>471</td>\n",
       "      <td>471</td>\n",
       "    </tr>\n",
       "    <tr>\n",
       "      <th>1</th>\n",
       "      <td>185</td>\n",
       "      <td>185</td>\n",
       "    </tr>\n",
       "  </tbody>\n",
       "</table>\n",
       "</div>"
      ],
      "text/plain": [
       "               ltv  real\n",
       "count result            \n",
       "1     0       7025  7025\n",
       "      1       3668  3668\n",
       "2     0       2039  2039\n",
       "      1        704   704\n",
       "3     0        847   847\n",
       "      1        226   226\n",
       "4     0        426   426\n",
       "      1        100   100\n",
       "5     0        471   471\n",
       "      1        185   185"
      ]
     },
     "execution_count": 41,
     "metadata": {},
     "output_type": "execute_result"
    }
   ],
   "source": [
    "df.groupby(by=[\"count\", \"result\"]).count()"
   ]
  },
  {
   "cell_type": "code",
   "execution_count": 42,
   "id": "638591ac",
   "metadata": {},
   "outputs": [
    {
     "data": {
      "image/png": "[encoded data removed]",
      "text/plain": [
       "<Figure size 720x1296 with 10 Axes>"
      ]
     },
     "metadata": {
      "needs_background": "light"
     },
     "output_type": "display_data"
    }
   ],
   "source": [
    "fig, axes = plt.subplots(5,2, figsize=(10,18))\n",
    "for indx, couple in enumerate(axes):\n",
    "    bad = df[(df[\"count\"] == indx +1) & (df[\"result\"] == 0)][\"ltv\"].values\n",
    "    good = df[(df[\"count\"] == indx +1) & (df[\"result\"] == 1)][\"ltv\"].values\n",
    "    \n",
    "    couple[0].hist(bad, bins=50)\n",
    "    couple[1].hist(good, bins=50)\n",
    "    \n",
    "    couple[0].set_title(f\"Bad performance (0) - count {indx +1}\")\n",
    "    couple[1].set_title(f\"Good performance (1) - count {indx +1}\")"
   ]
  },
  {
   "cell_type": "markdown",
   "id": "93dfb42b",
   "metadata": {},
   "source": [
    "**EDA Conlcusions**\n",
    "\n",
    "We have an insufficient amount of observations. The data is not evenly split by performance, we have more than double of negative observations (0) than positive ones (1). By plotting the values, we observe that every group is skewed to the right.\n",
    "\n",
    "To solve these issues we will use a statistical procedure called bootstrapping. This process generates new data using the already existing sample. It will also remove the skewness by shaping the data into a normal distributed sample.  "
   ]
  },
  {
   "cell_type": "markdown",
   "id": "9faed35d",
   "metadata": {},
   "source": [
    "### Bootstrapping - How it works"
   ]
  },
  {
   "cell_type": "markdown",
   "id": "f2c87134",
   "metadata": {},
   "source": [
    "In order to understand how bootstrapping works, let's analyse two examples, in both cases we will use fake data. The population size is 100.000 items while each sample will only have 1.000 observations."
   ]
  },
  {
   "cell_type": "code",
   "execution_count": 155,
   "id": "49804e17",
   "metadata": {},
   "outputs": [],
   "source": [
    "# Setting fake data\n",
    "\n",
    "group1 = np.random.normal(25, 2, 100000)\n",
    "group2 = np.random.normal(27, 2, 100000)\n",
    "\n",
    "gr1_sample1 = np.random.choice(group1, size=1000)\n",
    "gr1_sample2 = np.random.choice(group1, size=1000)\n",
    "\n",
    "gr2_sample1 = np.random.choice(group2, size=1000)\n",
    "gr2_sample2 = np.random.choice(group2, size=1000)"
   ]
  },
  {
   "cell_type": "code",
   "execution_count": 156,
   "id": "2fdd428b",
   "metadata": {},
   "outputs": [
    {
     "data": {
      "image/png": "[encoded data removed]",
      "text/plain": [
       "<Figure size 1152x288 with 2 Axes>"
      ]
     },
     "metadata": {
      "needs_background": "light"
     },
     "output_type": "display_data"
    }
   ],
   "source": [
    "# Visualization\n",
    "\n",
    "# Example 1. Same population.\n",
    "\n",
    "df_g1 = pd.DataFrame(gr1_sample1, columns=[\"sample1\"])\n",
    "df_g2 = pd.DataFrame(gr1_sample2, columns=[\"sample2\"])\n",
    "full = df_g1.join(df_g2)\n",
    "same_pop = pd.melt(full, var_name=\"sample\", value_name=\"values\")\n",
    "\n",
    "# Example 1. Different population.\n",
    "\n",
    "df_g1 = pd.DataFrame(gr1_sample1, columns=[\"sample1\"])\n",
    "df_g2 = pd.DataFrame(gr2_sample1, columns=[\"sample2\"])\n",
    "full = df_g1.join(df_g2)\n",
    "diff_pop = pd.melt(full, var_name=\"sample\", value_name=\"values\")\n",
    "\n",
    "fig, axes = plt.subplots(nrows=1, ncols=2, figsize=(16,4))\n",
    "sns.histplot(data=same_pop, x=\"values\", hue=\"sample\", element=\"step\", ax=axes[0])\n",
    "sns.histplot(data=diff_pop, x=\"values\", hue=\"sample\", element=\"step\", ax=axes[1])\n",
    "axes[0].set_title(\"Same Population\")\n",
    "axes[1].set_title(\"Different Population\");"
   ]
  },
  {
   "cell_type": "markdown",
   "id": "1b85b805",
   "metadata": {},
   "source": [
    "When the both samples are coming from the same population, the mean and median difference should be closer to zero. The bigger the difference the more different the populations are."
   ]
  },
  {
   "cell_type": "markdown",
   "id": "d0047717",
   "metadata": {},
   "source": [
    "**Example 1. Same population**"
   ]
  },
  {
   "cell_type": "code",
   "execution_count": 157,
   "id": "a4f8ce9b",
   "metadata": {},
   "outputs": [
    {
     "name": "stdout",
     "output_type": "stream",
     "text": [
      "24.948035546550184 24.926058071220215\n",
      "0.021977475329968854\n"
     ]
    }
   ],
   "source": [
    "# Mean\n",
    "\n",
    "gr1_sample1_mean = np.mean(gr1_sample1)\n",
    "gr1_sample2_mean = np.mean(gr1_sample2)\n",
    "print(gr1_sample1_mean, gr1_sample2_mean)\n",
    "\n",
    "mean_diff_same = abs(gr1_sample1_mean - gr1_sample2_mean)\n",
    "print(mean_diff_same)"
   ]
  },
  {
   "cell_type": "code",
   "execution_count": 158,
   "id": "6c5e08b6",
   "metadata": {},
   "outputs": [
    {
     "name": "stdout",
     "output_type": "stream",
     "text": [
      "24.934433717989293 24.925197562323746\n",
      "0.009236155665547585\n"
     ]
    }
   ],
   "source": [
    "# Median\n",
    "\n",
    "gr1_sample1_median = np.median(gr1_sample1)\n",
    "gr1_sample2_median = np.median(gr1_sample2)\n",
    "print(gr1_sample1_median, gr1_sample2_median)\n",
    "\n",
    "median_diff_same = abs(gr1_sample1_median - gr1_sample2_median)\n",
    "print(median_diff_same)"
   ]
  },
  {
   "cell_type": "markdown",
   "id": "022ea371",
   "metadata": {},
   "source": [
    "As expected, both the median and mean absolute difference values are close to zero. Thus, we might infer the samples come from the same population."
   ]
  },
  {
   "cell_type": "markdown",
   "id": "abeb299d",
   "metadata": {},
   "source": [
    "**Exmaple 2. Different population.**"
   ]
  },
  {
   "cell_type": "code",
   "execution_count": 159,
   "id": "ae9897d1",
   "metadata": {},
   "outputs": [
    {
     "name": "stdout",
     "output_type": "stream",
     "text": [
      "24.948035546550184 26.997807706666105\n",
      "2.0497721601159213\n"
     ]
    }
   ],
   "source": [
    "# Mean\n",
    "\n",
    "gr1_sample1_mean = np.mean(gr1_sample1)\n",
    "gr2_sample1_mean = np.mean(gr2_sample1)\n",
    "print(gr1_sample1_mean, gr2_sample1_mean)\n",
    "\n",
    "mean_diff_diff = abs(gr1_sample1_mean - gr2_sample1_mean)\n",
    "print(mean_diff_diff)"
   ]
  },
  {
   "cell_type": "code",
   "execution_count": 160,
   "id": "8705c4dd",
   "metadata": {},
   "outputs": [
    {
     "name": "stdout",
     "output_type": "stream",
     "text": [
      "24.934433717989293 26.987343500946515\n",
      "2.0529097829572223\n"
     ]
    }
   ],
   "source": [
    "# Median\n",
    "\n",
    "gr1_sample1_median = np.median(gr1_sample1)\n",
    "gr2_sample1_median = np.median(gr2_sample1)\n",
    "print(gr1_sample1_median, gr2_sample1_median)\n",
    "\n",
    "median_diff_diff = abs(gr1_sample1_median - gr2_sample1_median)\n",
    "print(median_diff_diff)"
   ]
  },
  {
   "cell_type": "markdown",
   "id": "78c6ed6b",
   "metadata": {},
   "source": [
    "Since populations are not the same, mean and median absolute difference won't zero. The higher this value the more difference there is between the two samples, therefore, the more different populations will be."
   ]
  },
  {
   "cell_type": "markdown",
   "id": "044d5eb8",
   "metadata": {},
   "source": [
    "**Bootstrap Implementation**\n",
    "\n",
    "Our samples only account for 1% of the total population (1.000 out of 100.000). The previous excersise gives us an idea if there is a difference between the samples, but in order to ensure the samples' provenance with a greater level of certainty we should perform a t-test or any other similar test. \n",
    "\n",
    "In this case we will use a simple bootstarp p-value analysis. To carry out this test we should compute the mean between both samples. Then create and compute the difference between the bootstrap samples, the more the better. Lastly, add up the number of bootstraps tests which mean is higher than the original sample mean, and divide that number by the total number of bootstrap test. The resulting value is the p-value.\n",
    "\n",
    "We will set our confindence level at 0.05. This means that any value higher than 0.05 will mean that we are dealing with samples coming from the same population."
   ]
  },
  {
   "cell_type": "code",
   "execution_count": 161,
   "id": "583a018f",
   "metadata": {},
   "outputs": [],
   "source": [
    "def bootstrap(sample1, sample2, n_iterations):\n",
    "    \"\"\"\n",
    "    Create a bootstrap copy of two arrays returning the new groups' mean and median.\n",
    "    \n",
    "    Parameters:\n",
    "        sample1: NumPy Array. 1 dimension array (X,). Both samples must have the same dimension and items.\n",
    "        sample2: NumPy Array. 1 dimension array (X,). Both samples must have the same dimension and items.\n",
    "        n_iterations: Integer. Number of bootstrap samples to compute.\n",
    "        \n",
    "    Return:\n",
    "        List: Mean, Median and Absolute difference computed for each iteration.\n",
    "    \"\"\"\n",
    "    \n",
    "    results = []\n",
    "    \n",
    "    for x in range(n_iterations):\n",
    "        # Join both samples together. Our null hypotheses is that both samples come from the same distribution.\n",
    "        full = np.concatenate((sample1, sample2))\n",
    "        \n",
    "        # Randomly choose full.size items with replacement, full.size = sample1.size + sample2.size\n",
    "        # replace=True means with replacement i.e. a given element 'a' can be chosen multiple times.\n",
    "        bootstrap_sample = np.random.choice(full, size=full.size, replace=True)\n",
    "\n",
    "        boot_sample1 = bootstrap_sample[:sample1.size]\n",
    "        boot_sample2 = bootstrap_sample[sample1.size:]\n",
    "\n",
    "        # Computing mean and median\n",
    "        boot_sample1_mean = np.mean(boot_sample1)\n",
    "        boot_sample2_mean = np.mean(boot_sample2)\n",
    "        boot_sample1_median = np.median(boot_sample1)\n",
    "        boot_sample2_median = np.median(boot_sample2)\n",
    "\n",
    "        # Computing difference\n",
    "        mean_diff = abs(boot_sample1_mean - boot_sample2_mean)\n",
    "        median_diff = abs(boot_sample1_median - boot_sample2_median)\n",
    "        \n",
    "        # Crearing list with results\n",
    "        result = [x+1, \n",
    "                  boot_sample1_mean, boot_sample2_mean, \n",
    "                  boot_sample1_median, boot_sample2_median, \n",
    "                  mean_diff, median_diff]\n",
    "        \n",
    "        results.append(result)\n",
    "    \n",
    "    return results"
   ]
  },
  {
   "cell_type": "code",
   "execution_count": 162,
   "id": "5c22e27a",
   "metadata": {},
   "outputs": [],
   "source": [
    "def bootstrap_pvalue(obs_value, bootstrap_values):\n",
    "    \"\"\"\n",
    "    Compute the p value given a X number of bootstraps observations.\n",
    "    Formula >> (# bootstraps tests >= observed test ) / # bootstrap tests \n",
    "    The lower this value the better.\n",
    "    \n",
    "    Parameters:\n",
    "        obs_value: Integer. Statistic such as Mean or Median.\n",
    "        bootstrap_values: List or NumPy array. List of bootstrap statistics to compare with.\n",
    "    \n",
    "    Return:\n",
    "        Float. P value.    \n",
    "    \"\"\"\n",
    "    \n",
    "    bigger = [ob for ob in bootstrap_values if ob >= obs_value]\n",
    "    pvalue = len(bigger) / len(bootstrap_values)\n",
    "    return pvalue"
   ]
  },
  {
   "cell_type": "markdown",
   "id": "7060e375",
   "metadata": {},
   "source": [
    "**Example 1. Same Population**"
   ]
  },
  {
   "cell_type": "code",
   "execution_count": 163,
   "id": "282166b6",
   "metadata": {},
   "outputs": [
    {
     "data": {
      "text/html": [
       "<div>\n",
       "<style scoped>\n",
       "    .dataframe tbody tr th:only-of-type {\n",
       "        vertical-align: middle;\n",
       "    }\n",
       "\n",
       "    .dataframe tbody tr th {\n",
       "        vertical-align: top;\n",
       "    }\n",
       "\n",
       "    .dataframe thead th {\n",
       "        text-align: right;\n",
       "    }\n",
       "</style>\n",
       "<table border=\"1\" class=\"dataframe\">\n",
       "  <thead>\n",
       "    <tr style=\"text-align: right;\">\n",
       "      <th></th>\n",
       "      <th>Sample_no</th>\n",
       "      <th>mean1</th>\n",
       "      <th>mean2</th>\n",
       "      <th>median1</th>\n",
       "      <th>median2</th>\n",
       "      <th>mean_diff</th>\n",
       "      <th>median_diff</th>\n",
       "    </tr>\n",
       "  </thead>\n",
       "  <tbody>\n",
       "    <tr>\n",
       "      <th>0</th>\n",
       "      <td>1</td>\n",
       "      <td>24.919975</td>\n",
       "      <td>24.884971</td>\n",
       "      <td>24.925086</td>\n",
       "      <td>24.891042</td>\n",
       "      <td>0.035004</td>\n",
       "      <td>0.034044</td>\n",
       "    </tr>\n",
       "    <tr>\n",
       "      <th>1</th>\n",
       "      <td>2</td>\n",
       "      <td>24.957923</td>\n",
       "      <td>24.973492</td>\n",
       "      <td>25.011517</td>\n",
       "      <td>24.910424</td>\n",
       "      <td>0.015569</td>\n",
       "      <td>0.101093</td>\n",
       "    </tr>\n",
       "    <tr>\n",
       "      <th>2</th>\n",
       "      <td>3</td>\n",
       "      <td>24.931148</td>\n",
       "      <td>24.977149</td>\n",
       "      <td>24.933832</td>\n",
       "      <td>24.917487</td>\n",
       "      <td>0.046001</td>\n",
       "      <td>0.016345</td>\n",
       "    </tr>\n",
       "    <tr>\n",
       "      <th>3</th>\n",
       "      <td>4</td>\n",
       "      <td>24.963340</td>\n",
       "      <td>25.060772</td>\n",
       "      <td>24.921996</td>\n",
       "      <td>24.957196</td>\n",
       "      <td>0.097433</td>\n",
       "      <td>0.035200</td>\n",
       "    </tr>\n",
       "    <tr>\n",
       "      <th>4</th>\n",
       "      <td>5</td>\n",
       "      <td>25.044574</td>\n",
       "      <td>24.926789</td>\n",
       "      <td>24.946738</td>\n",
       "      <td>24.947890</td>\n",
       "      <td>0.117785</td>\n",
       "      <td>0.001152</td>\n",
       "    </tr>\n",
       "  </tbody>\n",
       "</table>\n",
       "</div>"
      ],
      "text/plain": [
       "   Sample_no      mean1      mean2    median1    median2  mean_diff  \\\n",
       "0          1  24.919975  24.884971  24.925086  24.891042   0.035004   \n",
       "1          2  24.957923  24.973492  25.011517  24.910424   0.015569   \n",
       "2          3  24.931148  24.977149  24.933832  24.917487   0.046001   \n",
       "3          4  24.963340  25.060772  24.921996  24.957196   0.097433   \n",
       "4          5  25.044574  24.926789  24.946738  24.947890   0.117785   \n",
       "\n",
       "   median_diff  \n",
       "0     0.034044  \n",
       "1     0.101093  \n",
       "2     0.016345  \n",
       "3     0.035200  \n",
       "4     0.001152  "
      ]
     },
     "execution_count": 163,
     "metadata": {},
     "output_type": "execute_result"
    }
   ],
   "source": [
    "same_pop_boot = bootstrap(gr1_sample1, gr1_sample2, 100)\n",
    "cols = [\"Sample_no\", \"mean1\", \"mean2\", \"median1\", \"median2\", \"mean_diff\", \"median_diff\"]\n",
    "bootstrap_df = pd.DataFrame(data=same_pop_boot, columns=cols)\n",
    "bootstrap_df.head()"
   ]
  },
  {
   "cell_type": "code",
   "execution_count": 164,
   "id": "8f551886",
   "metadata": {},
   "outputs": [
    {
     "data": {
      "text/plain": [
       "0.84"
      ]
     },
     "execution_count": 164,
     "metadata": {},
     "output_type": "execute_result"
    }
   ],
   "source": [
    "bootstrap_pvalue(mean_diff_same, bootstrap_df[\"mean_diff\"])"
   ]
  },
  {
   "cell_type": "markdown",
   "id": "0fac3115",
   "metadata": {},
   "source": [
    "As expected, the value is way higher than 0.05. Both samples are coming from the same population."
   ]
  },
  {
   "cell_type": "markdown",
   "id": "da2c27f2",
   "metadata": {},
   "source": [
    "**Example 2. Different Population**"
   ]
  },
  {
   "cell_type": "code",
   "execution_count": 165,
   "id": "94881e1a",
   "metadata": {},
   "outputs": [
    {
     "data": {
      "text/html": [
       "<div>\n",
       "<style scoped>\n",
       "    .dataframe tbody tr th:only-of-type {\n",
       "        vertical-align: middle;\n",
       "    }\n",
       "\n",
       "    .dataframe tbody tr th {\n",
       "        vertical-align: top;\n",
       "    }\n",
       "\n",
       "    .dataframe thead th {\n",
       "        text-align: right;\n",
       "    }\n",
       "</style>\n",
       "<table border=\"1\" class=\"dataframe\">\n",
       "  <thead>\n",
       "    <tr style=\"text-align: right;\">\n",
       "      <th></th>\n",
       "      <th>Sample_no</th>\n",
       "      <th>mean1</th>\n",
       "      <th>mean2</th>\n",
       "      <th>median1</th>\n",
       "      <th>median2</th>\n",
       "      <th>mean_diff</th>\n",
       "      <th>median_diff</th>\n",
       "    </tr>\n",
       "  </thead>\n",
       "  <tbody>\n",
       "    <tr>\n",
       "      <th>0</th>\n",
       "      <td>1</td>\n",
       "      <td>26.063087</td>\n",
       "      <td>26.134179</td>\n",
       "      <td>26.008283</td>\n",
       "      <td>26.202079</td>\n",
       "      <td>0.071093</td>\n",
       "      <td>0.193797</td>\n",
       "    </tr>\n",
       "    <tr>\n",
       "      <th>1</th>\n",
       "      <td>2</td>\n",
       "      <td>25.974799</td>\n",
       "      <td>25.875646</td>\n",
       "      <td>25.983729</td>\n",
       "      <td>25.828800</td>\n",
       "      <td>0.099153</td>\n",
       "      <td>0.154929</td>\n",
       "    </tr>\n",
       "    <tr>\n",
       "      <th>2</th>\n",
       "      <td>3</td>\n",
       "      <td>25.881646</td>\n",
       "      <td>26.078244</td>\n",
       "      <td>25.877700</td>\n",
       "      <td>26.113757</td>\n",
       "      <td>0.196599</td>\n",
       "      <td>0.236057</td>\n",
       "    </tr>\n",
       "    <tr>\n",
       "      <th>3</th>\n",
       "      <td>4</td>\n",
       "      <td>26.075022</td>\n",
       "      <td>25.969670</td>\n",
       "      <td>26.069191</td>\n",
       "      <td>26.017002</td>\n",
       "      <td>0.105352</td>\n",
       "      <td>0.052189</td>\n",
       "    </tr>\n",
       "    <tr>\n",
       "      <th>4</th>\n",
       "      <td>5</td>\n",
       "      <td>25.873092</td>\n",
       "      <td>26.096043</td>\n",
       "      <td>25.935793</td>\n",
       "      <td>25.944914</td>\n",
       "      <td>0.222951</td>\n",
       "      <td>0.009121</td>\n",
       "    </tr>\n",
       "  </tbody>\n",
       "</table>\n",
       "</div>"
      ],
      "text/plain": [
       "   Sample_no      mean1      mean2    median1    median2  mean_diff  \\\n",
       "0          1  26.063087  26.134179  26.008283  26.202079   0.071093   \n",
       "1          2  25.974799  25.875646  25.983729  25.828800   0.099153   \n",
       "2          3  25.881646  26.078244  25.877700  26.113757   0.196599   \n",
       "3          4  26.075022  25.969670  26.069191  26.017002   0.105352   \n",
       "4          5  25.873092  26.096043  25.935793  25.944914   0.222951   \n",
       "\n",
       "   median_diff  \n",
       "0     0.193797  \n",
       "1     0.154929  \n",
       "2     0.236057  \n",
       "3     0.052189  \n",
       "4     0.009121  "
      ]
     },
     "execution_count": 165,
     "metadata": {},
     "output_type": "execute_result"
    }
   ],
   "source": [
    "diff_pop_boot = bootstrap(gr1_sample1, gr2_sample1, 100)\n",
    "cols = [\"Sample_no\", \"mean1\", \"mean2\", \"median1\", \"median2\", \"mean_diff\", \"median_diff\"]\n",
    "bootstrap_df = pd.DataFrame(data=diff_pop_boot, columns=cols)\n",
    "bootstrap_df.head()"
   ]
  },
  {
   "cell_type": "code",
   "execution_count": 166,
   "id": "ed2d784b",
   "metadata": {},
   "outputs": [
    {
     "data": {
      "text/plain": [
       "0.0"
      ]
     },
     "execution_count": 166,
     "metadata": {},
     "output_type": "execute_result"
    }
   ],
   "source": [
    "bootstrap_pvalue(mean_diff_diff, bootstrap_df[\"mean_diff\"])"
   ]
  },
  {
   "cell_type": "markdown",
   "id": "8b82edc1",
   "metadata": {},
   "source": [
    "As expected, the value is smaller than 0.05. Samples are comming from different populations."
   ]
  },
  {
   "cell_type": "markdown",
   "id": "d6773194",
   "metadata": {},
   "source": [
    "### Real World Data"
   ]
  },
  {
   "cell_type": "code",
   "execution_count": 264,
   "id": "771ff0b0",
   "metadata": {},
   "outputs": [
    {
     "name": "stdout",
     "output_type": "stream",
     "text": [
      "----- 1\n"
     ]
    },
    {
     "data": {
      "image/png": "[encoded data removed]",
      "text/plain": [
       "<Figure size 432x288 with 1 Axes>"
      ]
     },
     "metadata": {
      "needs_background": "light"
     },
     "output_type": "display_data"
    },
    {
     "name": "stdout",
     "output_type": "stream",
     "text": [
      "----- 2\n"
     ]
    },
    {
     "data": {
      "image/png": "[encoded data removed]",
      "text/plain": [
       "<Figure size 432x288 with 1 Axes>"
      ]
     },
     "metadata": {
      "needs_background": "light"
     },
     "output_type": "display_data"
    },
    {
     "name": "stdout",
     "output_type": "stream",
     "text": [
      "----- 3\n"
     ]
    },
    {
     "data": {
      "image/png": "[encoded data removed]",
      "text/plain": [
       "<Figure size 432x288 with 1 Axes>"
      ]
     },
     "metadata": {
      "needs_background": "light"
     },
     "output_type": "display_data"
    },
    {
     "name": "stdout",
     "output_type": "stream",
     "text": [
      "----- 4\n"
     ]
    },
    {
     "data": {
      "image/png": "[encoded data removed]",
      "text/plain": [
       "<Figure size 432x288 with 1 Axes>"
      ]
     },
     "metadata": {
      "needs_background": "light"
     },
     "output_type": "display_data"
    },
    {
     "name": "stdout",
     "output_type": "stream",
     "text": [
      "----- 5\n"
     ]
    },
    {
     "data": {
      "image/png": "[encoded data removed]",
      "text/plain": [
       "<Figure size 432x288 with 1 Axes>"
      ]
     },
     "metadata": {
      "needs_background": "light"
     },
     "output_type": "display_data"
    }
   ],
   "source": [
    "for x in [1,2,3,4,5]:\n",
    "    \n",
    "    print(\"-----\", x)\n",
    "    \n",
    "    # Identifying smallest group\n",
    "    grp_good = df[(df[\"count\"] == group_count) & (df[\"result\"] == 1)][\"real\"].values\n",
    "    grp_bad = df[(df[\"count\"] == group_count) & (df[\"result\"] == 0)][\"real\"].values\n",
    "    min_val = min(len(grp_good), len(grp_bad))\n",
    "    \n",
    "    # Creating groups and computing mean\n",
    "    grp_good = np.random.choice(grp_good, size=min_val, replace=False)\n",
    "    grp_bad = np.random.choice(grp_bad, size=min_val, replace=False)\n",
    "    mean_diff = abs(grp_good.mean() - grp_bad.mean())\n",
    "    \n",
    "    # Bootstrapping\n",
    "    boot_perf = bootstrap(grp_good, grp_bad, 1000)\n",
    "    cols = [\"Sample_no\", \"mean1\", \"mean2\", \"median1\", \"median2\", \"mean_diff\", \"median_diff\"]\n",
    "    bootstrap_df = pd.DataFrame(data=boot_perf, columns=cols)\n",
    "    \n",
    "    # Bootstrapping P-value\n",
    "    p_val = bootstrap_pvalue(mean_diff, bootstrap_df[\"mean_diff\"])\n",
    "    \n",
    "    # Visualization\n",
    "    to_hist = bootstrap_df[[\"mean1\", \"mean2\"]].melt(var_name=\"means\", value_name=\"values\")\n",
    "    fig, ax = plt.subplots(figsize=(6,4))\n",
    "    sns.histplot(data=to_hist, x=\"values\", hue=\"means\", element=\"step\", ax=ax)\n",
    "    ax.set_title(f\"Count group {x}   P-value: {p_val}\")\n",
    "    plt.show()\n"
   ]
  },
  {
   "cell_type": "code",
   "execution_count": null,
   "id": "2290e32a",
   "metadata": {},
   "outputs": [],
   "source": []
  },
  {
   "cell_type": "code",
   "execution_count": null,
   "id": "8509fb71",
   "metadata": {},
   "outputs": [],
   "source": []
  },
  {
   "cell_type": "code",
   "execution_count": null,
   "id": "a2eba255",
   "metadata": {},
   "outputs": [],
   "source": []
  },
  {
   "cell_type": "code",
   "execution_count": null,
   "id": "bf509617",
   "metadata": {},
   "outputs": [],
   "source": []
  },
  {
   "cell_type": "code",
   "execution_count": null,
   "id": "4a6c4e40",
   "metadata": {},
   "outputs": [],
   "source": []
  },
  {
   "cell_type": "code",
   "execution_count": null,
   "id": "e9ce166d",
   "metadata": {},
   "outputs": [],
   "source": []
  },
  {
   "cell_type": "code",
   "execution_count": null,
   "id": "df69a346",
   "metadata": {},
   "outputs": [],
   "source": []
  },
  {
   "cell_type": "code",
   "execution_count": null,
   "id": "a89f7a1c",
   "metadata": {},
   "outputs": [],
   "source": []
  },
  {
   "cell_type": "code",
   "execution_count": null,
   "id": "dd7af08e",
   "metadata": {},
   "outputs": [],
   "source": []
  }
 ],
 "metadata": {
  "kernelspec": {
   "display_name": "Python 3",
   "language": "python",
   "name": "python3"
  },
  "language_info": {
   "codemirror_mode": {
    "name": "ipython",
    "version": 3
   },
   "file_extension": ".py",
   "mimetype": "text/x-python",
   "name": "python",
   "nbconvert_exporter": "python",
   "pygments_lexer": "ipython3",
   "version": "3.7.10"
  }
 },
 "nbformat": 4,
 "nbformat_minor": 5
}
